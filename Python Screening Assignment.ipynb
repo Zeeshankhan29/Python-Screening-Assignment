{
 "cells": [
  {
   "cell_type": "markdown",
   "id": "78a7f891",
   "metadata": {},
   "source": [
    "# Python Screening Assignment"
   ]
  },
  {
   "cell_type": "code",
   "execution_count": null,
   "id": "75968097",
   "metadata": {},
   "outputs": [],
   "source": [
    "1. Create a function in python to read the text file and replace specific content\n",
    "of the file."
   ]
  },
  {
   "cell_type": "code",
   "execution_count": 9,
   "id": "be038df6",
   "metadata": {},
   "outputs": [
    {
     "name": "stdout",
     "output_type": "stream",
     "text": [
      "This is a Placement assignment\n",
      "This is a Screening assignment\n",
      "The word Placement is been replaced with Screening\n"
     ]
    }
   ],
   "source": [
    "#Answer\n",
    "def wordconverter(file):\n",
    "    try:\n",
    "        with open(file,'r') as f:\n",
    "            data=f.read()\n",
    "            print(data)\n",
    "            data=data.replace('Placement','Screening')\n",
    "            print(data)\n",
    "        with open(file,'w') as f:\n",
    "            f.write(data)\n",
    "    except Exception as e:\n",
    "            print(e)\n",
    "            \n",
    "    else:\n",
    "            print('The word Placement is been replaced with Screening')\n",
    "            \n",
    "wordconverter('example.txt') "
   ]
  },
  {
   "cell_type": "code",
   "execution_count": 11,
   "id": "28afea15",
   "metadata": {},
   "outputs": [
    {
     "name": "stdout",
     "output_type": "stream",
     "text": [
      "This is a Placement assignment\n",
      "This is a Screening assignment\n",
      "The word Placement is been replaced with Screening\n"
     ]
    }
   ],
   "source": [
    "#Calling the created function \n",
    "wordconverter('example.txt') "
   ]
  },
  {
   "cell_type": "code",
   "execution_count": null,
   "id": "af6ad4cd",
   "metadata": {},
   "outputs": [],
   "source": [
    "2. Demonstrate use of abstract class, multiple inheritance and decorator in\n",
    "python using examples."
   ]
  },
  {
   "cell_type": "code",
   "execution_count": 33,
   "id": "06e57e45",
   "metadata": {},
   "outputs": [
    {
     "name": "stdout",
     "output_type": "stream",
     "text": [
      "Abstract Base Class\n",
      "subclass \n"
     ]
    }
   ],
   "source": [
    "#Answer,\n",
    "# Abstract Class\n",
    "import abc\n",
    "from abc import ABC, abstractmethod\n",
    " \n",
    "class R(ABC):\n",
    "    def rk(self):\n",
    "        print(\"Abstract Base Class\")\n",
    " \n",
    "class K(R):\n",
    "    def rk(self):\n",
    "        super().rk()\n",
    "        print(\"subclass \")\n",
    " \n",
    "# Driver code\n",
    "r = K()\n",
    "r.rk()"
   ]
  },
  {
   "cell_type": "code",
   "execution_count": 39,
   "id": "1fcf37e2",
   "metadata": {},
   "outputs": [
    {
     "name": "stdout",
     "output_type": "stream",
     "text": [
      "This is class A.\n",
      "This is class B.\n",
      "This is class C which inherits features of both classes A and B.\n"
     ]
    }
   ],
   "source": [
    "#Multiple Inheritance\n",
    "\n",
    "class A:\n",
    "    def A(self):\n",
    "        print('This is class A.')        \n",
    "class B:\n",
    "    def B(self):\n",
    "        print('This is class B.')        \n",
    "class C(A,B):\n",
    "    def C(self):\n",
    "        print('This is class C which inherits features of both classes A and B.')\n",
    "o = C()\n",
    "o.A()\n",
    "o.B()\n",
    "o.C()"
   ]
  },
  {
   "cell_type": "code",
   "execution_count": 41,
   "id": "91a82ef1",
   "metadata": {},
   "outputs": [
    {
     "name": "stdout",
     "output_type": "stream",
     "text": [
      "This is the added text to the actual function.\n",
      "This is the actual function.\n"
     ]
    }
   ],
   "source": [
    "#Decorator\n",
    "\n",
    "# example of decorator\n",
    "def sampleDecorator(func):\n",
    "    def addingFunction():\n",
    "        # some new statments or flow control\n",
    "        print(\"This is the added text to the actual function.\")\n",
    "        # calling the function\n",
    "        func()\n",
    "\n",
    "    return addingFunction\n",
    "\n",
    "\n",
    "@sampleDecorator\n",
    "def actualFunction():\n",
    "    print(\"This is the actual function.\")\n",
    "\n",
    "\n",
    "actualFunction()"
   ]
  },
  {
   "cell_type": "code",
   "execution_count": null,
   "id": "c33593fc",
   "metadata": {},
   "outputs": [],
   "source": []
  }
 ],
 "metadata": {
  "kernelspec": {
   "display_name": "Python 3 (ipykernel)",
   "language": "python",
   "name": "python3"
  },
  "language_info": {
   "codemirror_mode": {
    "name": "ipython",
    "version": 3
   },
   "file_extension": ".py",
   "mimetype": "text/x-python",
   "name": "python",
   "nbconvert_exporter": "python",
   "pygments_lexer": "ipython3",
   "version": "3.9.7"
  }
 },
 "nbformat": 4,
 "nbformat_minor": 5
}
